{
 "cells": [
  {
   "cell_type": "markdown",
   "metadata": {},
   "source": [
    "# 04 The Classical Ideal Gas: Configurational Entropy\n",
    "## 4.1 Separation of Entropy into Two Parts\n",
    "- Assumtion: positions and momenta are independent\n",
    "- Recall independance: $P(q,p) = P_q(q)P_p(p)$\n",
    "- $P_q(q)$ depends on Volume $V$ and number of particles $N$\n",
    "- Configurational entropy: $S_q = S_q(V, N)$\n",
    "- $P_p(p)$ depends on enery $E$ and number of particles $N$\n",
    "- $S_p = S_p(E, N)$\n",
    "- Total entropy: $S_{total}(E,V,N) = S_q(V,N) + S_p(E,N)$\n",
    "- $E,V,N$: Extensive parameters ($\\Leftrightarrow$ intensive parameters: temperature, pressure)"
   ]
  },
  {
   "cell_type": "markdown",
   "metadata": {},
   "source": [
    "## 4.2 Distribution of Particles between Two Subsystems\n",
    "- Two boxes: $V_A + V_B = V$ with total $N = N_A + N_B$ particles\n",
    "- Probability density $P_q(q) = P_N(\\{\\vec{r_j}\\} = \\prod_{j=1}^N P_1(\\vec{r_j})$\n",
    "- Probability for particle to be in Box $A$: $V_A/V$ (assumption)\n",
    "- Assumption: everything we don't know is equaly probable\n",
    "- $P(N_A|N) = \\frac{N!}{N_A!(N-N_A)!} \\left(\\frac{V_A}{V}\\right)^{N_A} \\left(1-\\frac{V_A}{V}\\right)^{N-N_A} = \\binom{N}{N_A} \\left(\\frac{V_A}{V}\\right)^{N_A}\\left(1-\\frac{V_A}{V}\\right)^{N-N_A}$\n",
    "- $P(N_A, N_B) = \\frac{N!}{N_A!N_B!} \\left( \\frac{V_A}{V}\\right) \\left( \\frac{V_B}{V}\\right)$"
   ]
  },
  {
   "cell_type": "markdown",
   "metadata": {},
   "source": [
    "## 4.3 Consequences of the Binomial Distribution\n",
    "- $\\langle N_A \\rangle = N \\left(\\frac{V_A}{V}\\right)$\n",
    "- By symmetry: $\\langle N_B \\rangle = N \\left(\\frac{V_B}{V}\\right)$\n",
    "- $\\delta N_A = \\dots = \\left[ \\langle N_A \\rangle \\left(\\frac{V_B}{V}\\right)\\right]^{1/2}$"
   ]
  },
  {
   "cell_type": "markdown",
   "metadata": {},
   "source": [
    "## 4.4 Actual Number versus Average Numer\n",
    "- $\\langle N_A \\rangle$ vs $N_A$\n",
    "- $N_A$ fluctuates by $\\delta N_A$\n",
    "- For a system with $10^{20}$ particles the fluctuation is $\\approx 10^{10}$\n",
    "- Big nummerical difference between $N_A$ and $\\langle N_A \\rangle$\n",
    "- The relative width of probability distribution is still small"
   ]
  },
  {
   "cell_type": "markdown",
   "metadata": {},
   "source": [
    "## 4.5 The 'Thermodinamic Limit'\n",
    "- Limit on infinite systems $\\rightarrow$ useful for mathematic approximation, not essential for understanding or applying thermodynamics"
   ]
  },
  {
   "cell_type": "markdown",
   "metadata": {},
   "source": [
    "## 4.6 Probability and Entropy\n",
    "- $\\Omega_q(N,V) = \\frac{V^N}{N!}$\n",
    "- $P(N_A,N_B) = \\frac{\\Omega_q(N_A,V_A)\\Omega_q(N_B,V_B)}{\\Omega_q(N,V)}$\n",
    "- Since argmax is same for $\\ln$: $\\ln[P(N_A,N_B)] = \\ln \\Omega_q(N_A,V_A) + \\ln \\Omega_q(N_B,V_B) - \\ln \\Omega_q(N,V)$\n",
    "- _TODO dafuq_"
   ]
  },
  {
   "cell_type": "markdown",
   "metadata": {},
   "source": [
    "## 4.7 An Analytic Approximation for the Configurational Entropy\n",
    "- $S_q(N,V) \\approx kN\\left[ \\ln\\left(\\frac{V}{N}\\right) +X\\right]$"
   ]
  },
  {
   "cell_type": "code",
   "execution_count": null,
   "metadata": {
    "collapsed": true
   },
   "outputs": [],
   "source": []
  }
 ],
 "metadata": {
  "kernelspec": {
   "display_name": "Python [conda root]",
   "language": "python",
   "name": "conda-root-py"
  },
  "language_info": {
   "codemirror_mode": {
    "name": "ipython",
    "version": 3
   },
   "file_extension": ".py",
   "mimetype": "text/x-python",
   "name": "python",
   "nbconvert_exporter": "python",
   "pygments_lexer": "ipython3",
   "version": "3.5.2"
  }
 },
 "nbformat": 4,
 "nbformat_minor": 2
}
