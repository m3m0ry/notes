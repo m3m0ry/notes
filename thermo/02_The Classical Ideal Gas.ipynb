{
 "cells": [
  {
   "cell_type": "markdown",
   "metadata": {},
   "source": [
    "# 2 The Classical Ideal Gas\n",
    "## 2.1 Ideal Gas\n",
    "- abscence of interactions between particles\n",
    "- similar to real gases with low density\n",
    "- __No phase transition__\n",
    "- advantage: properties can be calculated exactly, lesser complexity"
   ]
  },
  {
   "cell_type": "markdown",
   "metadata": {},
   "source": [
    "## 2.2 Phase Space of a Classical Gas\n",
    "- Position of every particle: $q = \\{\\vec{r_i}|i=1,\\dots,N\\} = \\{x_i,y_i,z_i|i=1,\\dots,N\\} = \\{q_j|j=1,\\dots,3N\\}$\n",
    "- Momentum of every particle: $p = \\{\\vec{p_i}|i=1,\\dots,N\\} = \\{p_{x,i},p_{y,i},p_{z,i}|i=1,\\dots,N\\} = \\{p_j|j=1,\\dots,3N\\}$\n",
    "- Phase space (6N-dimensional): $\\{p,q\\} = \\{q_j,p_j|j=1,\\dots,N\\}$\n",
    "- Total Kinetic Energy: $E = \\sum_{i=1}^N \\frac{\\lvert\\vec{p_i}\\rvert^2}{2m}$"
   ]
  },
  {
   "cell_type": "markdown",
   "metadata": {},
   "source": [
    "## 2.3 Distinguishability\n",
    "- exchange of two particles result in different macroscopic state"
   ]
  },
  {
   "cell_type": "markdown",
   "metadata": {},
   "source": [
    "## 2.4 Probability Theory\n",
    "- Assumptions about the probability distribution of position and momenta of $\\aprox 10^20$ particles\n",
    "- make simplest assumptions consistent what we know about the system and calculate the consequences"
   ]
  },
  {
   "cell_type": "markdown",
   "metadata": {},
   "source": [
    "## 2.5 Bolzmann's Definition of Entropy\n",
    "- thermodynamical entropy should be maximized in the equilibrium state\n",
    "- system naturally develops from less probable to more probable state\n",
    "- Bolzmann associates entropy with the probabilty of the state"
   ]
  },
  {
   "cell_type": "markdown",
   "metadata": {},
   "source": [
    "## 2.6 $S = k \\log W$\n",
    "- Entropy = Boltzmann konstant $\\log$ Probability"
   ]
  },
  {
   "cell_type": "markdown",
   "metadata": {},
   "source": [
    "## 2.7 Independence of Positions and Momenta\n",
    "- their contribution to the total entropy can be calculated separately"
   ]
  }
 ],
 "metadata": {
  "kernelspec": {
   "display_name": "Python [conda root]",
   "language": "python",
   "name": "conda-root-py"
  },
  "language_info": {
   "codemirror_mode": {
    "name": "ipython",
    "version": 3
   },
   "file_extension": ".py",
   "mimetype": "text/x-python",
   "name": "python",
   "nbconvert_exporter": "python",
   "pygments_lexer": "ipython3",
   "version": "3.5.2"
  }
 },
 "nbformat": 4,
 "nbformat_minor": 2
}
