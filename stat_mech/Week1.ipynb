{
 "cells": [
  {
   "cell_type": "markdown",
   "metadata": {},
   "source": [
    "# Monte Carlo algorithms\n",
    "- Direct sampling\n",
    "\n",
    "![Monte Carlo](images/monte carlo.png)\n",
    "\n",
    "\n",
    "- Computation of $\\pi$:\n",
    "$$\\frac{A_{\\text{circle}}}{A_{\\text{square}}} = \\frac{\\pi r^2}{(2r)^2} = \\frac{\\pi}{4} \\approx\\frac{N_{\\text{hits}}}{N_{\\text{trials}}}$$\n"
   ]
  },
  {
   "cell_type": "code",
   "execution_count": null,
   "metadata": {
    "collapsed": false
   },
   "outputs": [],
   "source": [
    "import random\n",
    "def direct_pi(trials):\n",
    "    hits = 0\n",
    "    for i in range(trials):\n",
    "        x, y = random.uniform(-1.0, 1.0), random.uniform(-1.0, 1.0)\n",
    "        if x**2 + y**2 < 1.0: \n",
    "            hits += 1\n",
    "    return 4.0 * float(hits) / float(trials)\n",
    "for i in range(1,20):\n",
    "    print(direct_pi(2**i))"
   ]
  },
  {
   "cell_type": "markdown",
   "metadata": {},
   "source": [
    "# Metropolis algorithm\n",
    "- MCMC (Monte Carlo, Markov Chain) type algorithm\n",
    "\n",
    "\n",
    "1. Init param $\\pi^0$\n",
    "2. Evaluate $p(\\pi^0)$\n",
    "3. Propose new value $\\pi^{n+1}$ randomly with a \"jump\" distribution centered on currente $\\pi^n$\n",
    "4. Evaluate $p(\\pi^{n+1})$\n",
    "5. Decide whether accept $\\pi^{n+1}$ ($a = \\frac{p(\\pi^{n+1})}{p(\\pi^n)}$)\n",
    "6. Repeat 3-5\n",
    "\n",
    "\n",
    "- Jump distribution **must** be symmetric: $J(\\pi^{n+1} | \\pi^{n}) = J(\\pi^n | \\pi^{n+1})$\n",
    "- Convergance: $\\mathrm{e}^{-t/\\tau}$\n",
    "\n",
    "TODO picture\n",
    "\n",
    "Metropolis for finding $\\pi$\n",
    "- random walk on domain. If step would lead to moving out of the domain, move is rejected. Evaluate every position if in circle or not.\n",
    "- rejection ratio $\\approx 50\\%$\n"
   ]
  },
  {
   "cell_type": "code",
   "execution_count": null,
   "metadata": {
    "collapsed": false
   },
   "outputs": [],
   "source": [
    "def metropolis_pi(trials = 4000, delta = 0.1, x = 1.0, y = 1.0):\n",
    "    n_hits = 0\n",
    "    for i in range(trials):\n",
    "        del_x, del_y = random.uniform(-delta, delta), random.uniform(-delta, delta)\n",
    "        if abs(x + del_x) < 1.0 and abs(y + del_y) < 1.0:\n",
    "            x, y = x + del_x, y + del_y\n",
    "        if x**2 + y**2 < 1.0: n_hits += 1\n",
    "    return 4.0 * float(n_hits) / float(trials)\n",
    "for i in range(1,20):\n",
    "    print(metropolis_pi(trials = 2**i))"
   ]
  },
  {
   "cell_type": "markdown",
   "metadata": {},
   "source": [
    "# Metropolis algorithm cont.: \n",
    "## Pebble Game\n",
    "- $3\\times3$ grid\n",
    "- Pebble is on one certain point (state:a, b, c,...) and can move in 4 directions (it must remain in grid)\n",
    "- a: upper right corner (1,3)\n",
    "- $p(a \\rightarrow b):$ algorithmic transition probability from a to b\n",
    "- $p(a \\rightarrow a) + p(a \\rightarrow b) + p(a \\rightarrow c) = 1$\n",
    "- $\\pi_a:$ probability of being in state a\n",
    "- $\\pi_a = \\pi_a p(a \\rightarrow a) + \\pi_b p(b \\rightarrow a) + \\pi_c p(c \\rightarrow a)$\n",
    "- $\\Rightarrow \\pi_a p(a \\rightarrow b) + \\pi_a p(a \\rightarrow c) = \\pi_b p(b \\rightarrow a) + \\pi_c p(c \\rightarrow a):$ Global balance condition\n",
    "- Detailed balance condition: $\\pi_a p(a \\rightarrow b) = \\pi_b p(b \\rightarrow a); \\pi_a p(a \\rightarrow c) = \\pi_c p(c \\rightarrow a)$\n",
    "- We want: $\\pi_a = \\pi_b = \\pi_c = \\dots$\n",
    "- $\\Rightarrow p(a \\rightarrow b) = p(b \\rightarrow a); \\dots$\n",
    "- Example a: $p(a \\rightarrow a) = \\frac{1}{2}; p(a \\rightarrow b) = p(a \\rightarrow c) = \\frac{1}{4}$\n",
    "\n",
    "## Inhomogeneous 3x3 Pebble game\n",
    "- $\\pi_i$ are given, not homogeneous\n",
    "- Metropolis acceptance probability: $p(a \\rightarrow b) = \\min(1, \\frac{\\pi_b}{\\pi_a})$\n",
    "\n",
    "## Convergance of 3x3 Pebble game"
   ]
  },
  {
   "cell_type": "code",
   "execution_count": null,
   "metadata": {
    "collapsed": true
   },
   "outputs": [],
   "source": [
    "# Neighbor configuration for pebble games\n",
    "neighbor =  [[1, 3, 0, 0], [2, 4, 0, 1], [2, 5, 1, 2],\n",
    "            [4, 6, 3, 0], [5, 7, 3, 1], [5, 8, 4, 2],\n",
    "            [7, 6, 6, 3], [8, 7, 6, 4], [8, 8, 7, 5]]"
   ]
  },
  {
   "cell_type": "code",
   "execution_count": null,
   "metadata": {
    "collapsed": false
   },
   "outputs": [],
   "source": [
    "def pebble_basic(start = 8, t_max = 4):\n",
    "    site = start\n",
    "    t = 0\n",
    "    yield site\n",
    "    while t < t_max:\n",
    "        t += 1\n",
    "        site = neighbor[site][random.randint(0, 3)]\n",
    "        yield site\n",
    "for site in pebble_basic(start = 2, t_max = 10):\n",
    "    print(site)"
   ]
  },
  {
   "cell_type": "code",
   "execution_count": null,
   "metadata": {
    "collapsed": false
   },
   "outputs": [],
   "source": [
    "def pebble_basic_multirun(runs = 25600, start = 8, t_max = 4):\n",
    "    for run in range(runs):\n",
    "        site = start\n",
    "        t = 0\n",
    "        while t < t_max: \n",
    "            t += 1\n",
    "            site = neighbor[site][random.randint(0, 3)]\n",
    "        yield site\n",
    "# Adjust number of timesteps and the starting site\n",
    "for site in pebble_basic_multirun(runs = 10, start = 8):\n",
    "    print(site)"
   ]
  },
  {
   "cell_type": "code",
   "execution_count": null,
   "metadata": {
    "collapsed": false
   },
   "outputs": [],
   "source": [
    "import numpy as np\n",
    "import matplotlib.pyplot as plt\n",
    "    \n",
    "def pebble_histogram(list_vec, t_max):\n",
    "    xvec = {0:3, 1:2, 2:1, 3:3, 4:2, 5:1, 6:3, 7:2, 8:1} \n",
    "    yvec = {0:1, 1:1, 2:1, 3:2, 4:2, 5:2, 6:3, 7:3, 8:3} \n",
    "    x = [xvec[k] for k in list_vec]\n",
    "    y = [yvec[k] for k in list_vec]\n",
    "\n",
    "    plt.xticks([])\n",
    "    plt.yticks([])\n",
    "    H, xedges, yedges = np.histogram2d(x, y, bins=(3, 3), \n",
    "               range=[[1,3],[1,3]], normed=True)\n",
    "    H /= np.sum(H)\n",
    "    extent = [yedges[0], yedges[-1], xedges[-1], xedges[0]]\n",
    "    plt.imshow(H, extent=extent, interpolation='nearest', vmin=0.0, vmax=1.0)\n",
    "    plt.set_cmap('hot')\n",
    "    plt.colorbar()\n",
    "    plt.title('t = '+str(t_max),fontsize=22)\n",
    "    plt.show()\n",
    "\n",
    "list_vec = []\n",
    "# Adjust number of runs and timesteps\n",
    "t_max = 10\n",
    "runs = 100\n",
    "for site in pebble_basic_multirun(runs = runs, start = 8, t_max = t_max):\n",
    "    list_vec.append(site)\n",
    "pebble_histogram(list_vec, t_max)"
   ]
  },
  {
   "cell_type": "markdown",
   "metadata": {},
   "source": [
    "# Markov Chain: Transfer Matrix Method\n",
    "- for $3\\times3$ pebble game\n",
    "- $\\pi_i$ as vector: $\\pi^t = \\begin{pmatrix}\\pi_0^t\\\\ \\pi_1^t\\\\ \\vdots\\\\ \\pi_8^t\\end{pmatrix}$\n",
    "- $\\| \\pi \\|_1 = 1$\n",
    "- Transfer Matrix $\\mathbf{A}^T$:\n",
    "$\\begin{bmatrix}\n",
    "p(0 \\rightarrow 0) & p(1 \\rightarrow 0) & \\ldots & p(8 \\rightarrow 0)\\\\\n",
    "p(0 \\rightarrow 1) & \\ddots &  & \\vdots \\\\\n",
    "\\vdots & & \\ddots & \\vdots \\\\\n",
    "p(0 \\rightarrow 8) & \\dots & \\dots & p(8 \\rightarrow 8) \\\\\n",
    "\\end{bmatrix}$\n",
    "- $\\pi^{t+1} = \\mathbf{A}^T \\pi^t$\n",
    "- $\\pi^{m+n} = (\\mathbf{A}^T)^m \\pi^n = (\\mathbf{A}^m)^T \\pi^n$"
   ]
  },
  {
   "cell_type": "code",
   "execution_count": null,
   "metadata": {
    "collapsed": false
   },
   "outputs": [],
   "source": [
    "# Construct transfer matrix\n",
    "transfer = np.zeros((9, 9))\n",
    "for k in range(9):\n",
    "    for neigh in range(4): transfer[neighbor[k][neigh], k] += 0.25\n",
    "\n",
    "def pebble_transfer():\n",
    "    # Initial position\n",
    "    position = np.zeros(9)\n",
    "    position[8] = 1.0\n",
    "    # Iterations\n",
    "    for t in range(42):\n",
    "        yield position\n",
    "        position = np.dot(transfer, position)\n",
    "\n",
    "for t, pos in enumerate(pebble_transfer()):\n",
    "    print(t, ' ',[\"%0.5f\" % i for i in pos])"
   ]
  },
  {
   "cell_type": "markdown",
   "metadata": {},
   "source": [
    "# Equilibrium and Decay\n",
    "- Equilibrium Probability Vector (steady state) for $3\\times3$ Pebble Game: $\\tilde{\\pi} = \\begin{pmatrix}1/9 \\\\ \\vdots \\\\ 1/9\\end{pmatrix}$\n",
    "- General: $lim_{n \\rightarrow \\infty} (\\mathbf{A}^T)^n \\pi^0 = \\tilde{\\pi}$ ($\\rightarrow$ ergodic, always true for $A_{ij} > 0$)\n",
    "- $\\mathbf{A}^T \\tilde{\\pi} = \\lambda_1 \\tilde{\\pi}$, when $\\lambda_1 = 1$\n",
    "- Second eigenvalue is slowest decay: $\\lambda_2 = 0.75$\n",
    "\n",
    "- Decay: $0.75^{-t} \\Rightarrow \\mathrm{e}^{-t/\\tau}$, where $\\tau \\approx 3.476$, $\\tau$ is the correlation time"
   ]
  },
  {
   "cell_type": "code",
   "execution_count": null,
   "metadata": {
    "collapsed": false
   },
   "outputs": [],
   "source": [
    "eigenvalues, eigenvectors = np.linalg.eig(transfer)\n",
    "\n",
    "for iter in range(9):\n",
    "    print('Eigenvalue: ', eigenvalues[iter])\n",
    "    if(np.isclose(eigenvalues[iter], 1.0)):\n",
    "        print('Equilibrium vector:')\n",
    "        for i in range(9):\n",
    "           print(i, eigenvectors[i][iter])\n",
    "print(eigenvectors[:,2])\n",
    "np.dot(transfer, eigenvectors[:,2])"
   ]
  },
  {
   "cell_type": "markdown",
   "metadata": {
    "collapsed": true
   },
   "source": [
    "# Markov chain: Conditions\n",
    "The Matrix $\\mathbf{A}^T$ must satisfy:\n",
    "- Global Balance\n",
    "- Irreducible\n",
    "- Apperiodic"
   ]
  },
  {
   "cell_type": "markdown",
   "metadata": {
    "collapsed": true
   },
   "source": [
    "TODO:\n",
    "- Why is eigenvector negative????"
   ]
  },
  {
   "cell_type": "code",
   "execution_count": null,
   "metadata": {
    "collapsed": true
   },
   "outputs": [],
   "source": []
  }
 ],
 "metadata": {
  "kernelspec": {
   "display_name": "Python [conda root]",
   "language": "python",
   "name": "conda-root-py"
  },
  "language_info": {
   "codemirror_mode": {
    "name": "ipython",
    "version": 3
   },
   "file_extension": ".py",
   "mimetype": "text/x-python",
   "name": "python",
   "nbconvert_exporter": "python",
   "pygments_lexer": "ipython3",
   "version": "3.5.2"
  }
 },
 "nbformat": 4,
 "nbformat_minor": 2
}
