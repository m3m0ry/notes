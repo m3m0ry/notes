{
 "cells": [
  {
   "cell_type": "markdown",
   "metadata": {},
   "source": [
    "# Monte Carlo algorithms\n",
    "- Direct sampling\n",
    "\n",
    "![Monte Carlo](images/monte carlo.png)\n",
    "\n",
    "\n",
    "- Computation of $\\pi$:\n",
    "$$\\frac{A_{\\text{circle}}}{A_{\\text{square}}} = \\frac{\\pi r^2}{(2r)^2} = \\frac{\\pi}{4} \\approx\\frac{N_{\\text{hits}}}{N_{\\text{trials}}}$$\n"
   ]
  },
  {
   "cell_type": "code",
   "execution_count": 1,
   "metadata": {
    "collapsed": false
   },
   "outputs": [
    {
     "name": "stdout",
     "output_type": "stream",
     "text": [
      "0.0\n",
      "4.0\n",
      "3.5\n",
      "3.25\n",
      "2.875\n",
      "3.1875\n",
      "3.0\n",
      "3.125\n",
      "3.1796875\n",
      "3.15234375\n",
      "3.134765625\n",
      "3.138671875\n",
      "3.13623046875\n",
      "3.147216796875\n",
      "3.1390380859375\n",
      "3.13885498046875\n",
      "3.1346435546875\n",
      "3.1412200927734375\n",
      "3.1429443359375\n"
     ]
    }
   ],
   "source": [
    "import random\n",
    "def direct_pi(trials):\n",
    "    hits = 0\n",
    "    for i in range(trials):\n",
    "        x, y = random.uniform(-1.0, 1.0), random.uniform(-1.0, 1.0)\n",
    "        if x**2 + y**2 < 1.0: \n",
    "            hits += 1\n",
    "    return 4.0 * float(hits) / float(trials)\n",
    "for i in range(1,20):\n",
    "    print(direct_pi(2**i))"
   ]
  },
  {
   "cell_type": "markdown",
   "metadata": {},
   "source": [
    "# Markov Chain / Metropolis algorithm\n",
    "\n",
    "TODO picture\n",
    "- random walk on domain. If step would lead to moving out of the domain, move is rejected. The current position is recounted.\n"
   ]
  },
  {
   "cell_type": "code",
   "execution_count": 2,
   "metadata": {
    "collapsed": false
   },
   "outputs": [
    {
     "name": "stdout",
     "output_type": "stream",
     "text": [
      "0.0\n",
      "0.0\n",
      "0.0\n",
      "0.5\n",
      "0.625\n",
      "1.5625\n",
      "1.0\n",
      "2.328125\n",
      "2.640625\n",
      "2.203125\n",
      "3.26171875\n",
      "3.0869140625\n",
      "3.11279296875\n",
      "3.1474609375\n",
      "3.0224609375\n",
      "3.110595703125\n",
      "3.125885009765625\n",
      "3.172576904296875\n",
      "3.1473007202148438\n"
     ]
    }
   ],
   "source": [
    "def markov_pi(trials = 4000, delta = 0.1, x = 1.0, y = 1.0):\n",
    "    n_hits = 0\n",
    "    for i in range(trials):\n",
    "        del_x, del_y = random.uniform(-delta, delta), random.uniform(-delta, delta)\n",
    "        if abs(x + del_x) < 1.0 and abs(y + del_y) < 1.0:\n",
    "            x, y = x + del_x, y + del_y\n",
    "        if x**2 + y**2 < 1.0: n_hits += 1\n",
    "    return 4.0 * float(n_hits) / float(trials)\n",
    "for i in range(1,20):\n",
    "    print(markov_pi(trials = 2**i))"
   ]
  },
  {
   "cell_type": "markdown",
   "metadata": {},
   "source": [
    "# Pebble Game\n",
    "- $3\\times3$ grid\n",
    "- Pebble is on one certain point (state:a, b, c,...) and can move in 4 directions (it must remain in grid)\n",
    "- a: upper right corner (1,3)\n",
    "- $p(a \\rightarrow b):$ algorithmic transition probability from a to b\n",
    "- $p(a \\rightarrow a) + p(a \\rightarrow b) + p(a \\rightarrow c) = 1$\n",
    "- $\\pi_a:$ probability of being in state a\n",
    "- $\\pi_a = \\pi_a p(a \\rightarrow a) + \\pi_b p(b \\rightarrow a) + \\pi_c p(c \\rightarrow a)$\n",
    "- $\\Rightarrow \\pi_a p(a \\rightarrow b) + \\pi_a p(a \\rightarrow c) = \\pi_b p(b \\rightarrow a) + \\pi_c p(c \\rightarrow a):$ Global balance condition\n",
    "- Detailed balance condition: $\\pi_a p(a \\rightarrow b) = \\pi_b p(b \\rightarrow a); \\pi_a p(a \\rightarrow c) = \\pi_c p(c \\rightarrow a)$\n",
    "- We want: $\\pi_a = \\pi_b = \\pi_c = \\dots$\n",
    "- $\\Rightarrow p(a \\rightarrow b) = p(b \\rightarrow a); \\dots$\n",
    "- Example a: $p(a \\rightarrow a) = \\frac{1}{2}; p(a \\rightarrow b) = p(a \\rightarrow c) = \\frac{1}{4}$\n",
    "\n",
    "## Inhomogeneous 3x3 Pebble game\n",
    "- $\\pi_i$ are given, not homogeneous\n",
    "- Metropolis acceptance probability: $p(a \\rightarrow b) = \\min(1, \\frac{\\pi_b}{\\pi_a})$\n",
    "\n",
    "## Convergance of 3x3 Pebble game"
   ]
  },
  {
   "cell_type": "code",
   "execution_count": 3,
   "metadata": {
    "collapsed": true
   },
   "outputs": [],
   "source": [
    "# Neighbor configuration for pebble games\n",
    "neighbor =  [[1, 3, 0, 0], [2, 4, 0, 1], [2, 5, 1, 2],\n",
    "            [4, 6, 3, 0], [5, 7, 3, 1], [5, 8, 4, 2],\n",
    "            [7, 6, 6, 3], [8, 7, 6, 4], [8, 8, 7, 5]]"
   ]
  },
  {
   "cell_type": "code",
   "execution_count": 4,
   "metadata": {
    "collapsed": false
   },
   "outputs": [
    {
     "name": "stdout",
     "output_type": "stream",
     "text": [
      "2\n",
      "2\n",
      "2\n",
      "5\n",
      "5\n",
      "4\n",
      "7\n",
      "4\n",
      "5\n",
      "4\n",
      "7\n"
     ]
    }
   ],
   "source": [
    "def pebble_basic(start = 8, t_max = 4):\n",
    "    site = start\n",
    "    t = 0\n",
    "    yield site\n",
    "    while t < t_max:\n",
    "        t += 1\n",
    "        site = neighbor[site][random.randint(0, 3)]\n",
    "        yield site\n",
    "for site in pebble_basic(start = 2, t_max = 10):\n",
    "    print(site)"
   ]
  },
  {
   "cell_type": "code",
   "execution_count": 5,
   "metadata": {
    "collapsed": false
   },
   "outputs": [
    {
     "name": "stdout",
     "output_type": "stream",
     "text": [
      "8\n",
      "7\n",
      "8\n",
      "1\n",
      "8\n",
      "5\n",
      "1\n",
      "6\n",
      "8\n",
      "1\n"
     ]
    }
   ],
   "source": [
    "def pebble_basic_multirun(runs = 25600, start = 8, t_max = 4):\n",
    "    for run in range(runs):\n",
    "        site = start\n",
    "        t = 0\n",
    "        while t < t_max: \n",
    "            t += 1\n",
    "            site = neighbor[site][random.randint(0, 3)]\n",
    "        yield site\n",
    "# Adjust number of timesteps and the starting site\n",
    "for site in pebble_basic_multirun(runs = 10, start = 8):\n",
    "    print(site)"
   ]
  },
  {
   "cell_type": "code",
   "execution_count": 6,
   "metadata": {
    "collapsed": false
   },
   "outputs": [
    {
     "data": {
      "image/png": "[encoded data removed]",
      "text/plain": [
       "<matplotlib.figure.Figure at 0x7fd0b413fba8>"
      ]
     },
     "metadata": {},
     "output_type": "display_data"
    }
   ],
   "source": [
    "import numpy as np\n",
    "import matplotlib.pyplot as plt\n",
    "    \n",
    "def pebble_histogram(list_vec, t_max):\n",
    "    xvec = {0:3, 1:2, 2:1, 3:3, 4:2, 5:1, 6:3, 7:2, 8:1} \n",
    "    yvec = {0:1, 1:1, 2:1, 3:2, 4:2, 5:2, 6:3, 7:3, 8:3} \n",
    "    x = [xvec[k] for k in list_vec]\n",
    "    y = [yvec[k] for k in list_vec]\n",
    "\n",
    "    plt.xticks([])\n",
    "    plt.yticks([])\n",
    "    H, xedges, yedges = np.histogram2d(x, y, bins=(3, 3), \n",
    "               range=[[1,3],[1,3]], normed=True)\n",
    "    H /= np.sum(H)\n",
    "    extent = [yedges[0], yedges[-1], xedges[-1], xedges[0]]\n",
    "    plt.imshow(H, extent=extent, interpolation='nearest', vmin=0.0, vmax=1.0)\n",
    "    plt.set_cmap('hot')\n",
    "    plt.colorbar()\n",
    "    plt.title('t = '+str(t_max),fontsize=22)\n",
    "    plt.show()\n",
    "\n",
    "list_vec = []\n",
    "# Adjust number of runs and timesteps\n",
    "t_max = 10\n",
    "runs = 100\n",
    "for site in pebble_basic_multirun(runs = runs, start = 8, t_max = t_max):\n",
    "    list_vec.append(site)\n",
    "pebble_histogram(list_vec, t_max)"
   ]
  },
  {
   "cell_type": "markdown",
   "metadata": {},
   "source": [
    "# Transfer Matrix Method\n",
    "- for $3\\times3$ pebble game\n",
    "- $\\pi_i$ as vector: $\\pi^t = \\begin{pmatrix}\\pi_0^t\\\\ \\pi_1^t\\\\ \\vdots\\\\ \\pi_8^t\\end{pmatrix}$\n",
    "- Transfer Matrix **A**:\n",
    "$\\begin{bmatrix}\n",
    "p(0 \\rightarrow 0) & p(1 \\rightarrow 0) & \\ldots & p(8 \\rightarrow 0)\\\\\n",
    "p(0 \\rightarrow 1) & \\ddots &  & \\vdots \\\\\n",
    "\\vdots & & \\ddots & \\vdots \\\\\n",
    "p(0 \\rightarrow 8) & \\dots & \\dots & p(8 \\rightarrow 8) \\\\\n",
    "\\end{bmatrix}$\n",
    "- $\\pi^{t+1} = \\mathbf{A} \\pi^t$\n",
    "- $\\pi^t = \\mathbf{A}^t \\pi^0$"
   ]
  },
  {
   "cell_type": "code",
   "execution_count": 7,
   "metadata": {
    "collapsed": false
   },
   "outputs": [
    {
     "name": "stdout",
     "output_type": "stream",
     "text": [
      "0   ['0.00000', '0.00000', '0.00000', '0.00000', '0.00000', '0.00000', '0.00000', '0.00000', '1.00000']\n",
      "1   ['0.00000', '0.00000', '0.00000', '0.00000', '0.00000', '0.25000', '0.00000', '0.25000', '0.50000']\n",
      "2   ['0.00000', '0.00000', '0.06250', '0.00000', '0.12500', '0.18750', '0.06250', '0.18750', '0.37500']\n",
      "3   ['0.00000', '0.04688', '0.07812', '0.04688', '0.09375', '0.18750', '0.07812', '0.18750', '0.28125']\n",
      "4   ['0.02344', '0.05469', '0.09766', '0.05469', '0.11719', '0.16016', '0.09766', '0.16016', '0.23438']\n",
      "5   ['0.03906', '0.07324', '0.10254', '0.07324', '0.10742', '0.15234', '0.10254', '0.15234', '0.19727']\n",
      "6   ['0.05615', '0.08057', '0.10767', '0.08057', '0.11279', '0.13989', '0.10767', '0.13989', '0.17480']\n",
      "7   ['0.06836', '0.08929', '0.10895', '0.08929', '0.11023', '0.13379', '0.10895', '0.13379', '0.15735']\n",
      "8   ['0.07883', '0.09421', '0.11024', '0.09421', '0.11154', '0.12758', '0.11024', '0.12758', '0.14557']\n",
      "9   ['0.08652', '0.09871', '0.11057', '0.09871', '0.11089', '0.12373', '0.11057', '0.12373', '0.13657']\n",
      "10   ['0.09261', '0.10167', '0.11089', '0.10167', '0.11122', '0.12044', '0.11089', '0.12044', '0.13015']\n",
      "11   ['0.09714', '0.10410', '0.11098', '0.10410', '0.11106', '0.11818', '0.11098', '0.11818', '0.12530']\n",
      "12   ['0.10062', '0.10582', '0.11106', '0.10582', '0.11114', '0.11638', '0.11106', '0.11638', '0.12174']\n",
      "13   ['0.10322', '0.10716', '0.11108', '0.10716', '0.11110', '0.11508', '0.11108', '0.11508', '0.11906']\n",
      "14   ['0.10519', '0.10814', '0.11110', '0.10814', '0.11112', '0.11408', '0.11110', '0.11408', '0.11707']\n",
      "15   ['0.10666', '0.10889', '0.11110', '0.10889', '0.11111', '0.11334', '0.11110', '0.11334', '0.11557']\n",
      "16   ['0.10777', '0.10944', '0.11111', '0.10944', '0.11111', '0.11278', '0.11111', '0.11278', '0.11446']\n",
      "17   ['0.10861', '0.10986', '0.11111', '0.10986', '0.11111', '0.11236', '0.11111', '0.11236', '0.11362']\n",
      "18   ['0.10923', '0.11017', '0.11111', '0.11017', '0.11111', '0.11205', '0.11111', '0.11205', '0.11299']\n",
      "19   ['0.10970', '0.11041', '0.11111', '0.11041', '0.11111', '0.11182', '0.11111', '0.11182', '0.11252']\n",
      "20   ['0.11005', '0.11058', '0.11111', '0.11058', '0.11111', '0.11164', '0.11111', '0.11164', '0.11217']\n",
      "21   ['0.11032', '0.11071', '0.11111', '0.11071', '0.11111', '0.11151', '0.11111', '0.11151', '0.11190']\n",
      "22   ['0.11052', '0.11081', '0.11111', '0.11081', '0.11111', '0.11141', '0.11111', '0.11141', '0.11171']\n",
      "23   ['0.11067', '0.11089', '0.11111', '0.11089', '0.11111', '0.11133', '0.11111', '0.11133', '0.11156']\n",
      "24   ['0.11078', '0.11094', '0.11111', '0.11094', '0.11111', '0.11128', '0.11111', '0.11128', '0.11145']\n",
      "25   ['0.11086', '0.11099', '0.11111', '0.11099', '0.11111', '0.11124', '0.11111', '0.11124', '0.11136']\n",
      "26   ['0.11092', '0.11102', '0.11111', '0.11102', '0.11111', '0.11121', '0.11111', '0.11121', '0.11130']\n",
      "27   ['0.11097', '0.11104', '0.11111', '0.11104', '0.11111', '0.11118', '0.11111', '0.11118', '0.11125']\n",
      "28   ['0.11101', '0.11106', '0.11111', '0.11106', '0.11111', '0.11116', '0.11111', '0.11116', '0.11122']\n",
      "29   ['0.11103', '0.11107', '0.11111', '0.11107', '0.11111', '0.11115', '0.11111', '0.11115', '0.11119']\n",
      "30   ['0.11105', '0.11108', '0.11111', '0.11108', '0.11111', '0.11114', '0.11111', '0.11114', '0.11117']\n",
      "31   ['0.11107', '0.11109', '0.11111', '0.11109', '0.11111', '0.11113', '0.11111', '0.11113', '0.11116']\n",
      "32   ['0.11108', '0.11109', '0.11111', '0.11109', '0.11111', '0.11113', '0.11111', '0.11113', '0.11114']\n",
      "33   ['0.11109', '0.11110', '0.11111', '0.11110', '0.11111', '0.11112', '0.11111', '0.11112', '0.11114']\n",
      "34   ['0.11109', '0.11110', '0.11111', '0.11110', '0.11111', '0.11112', '0.11111', '0.11112', '0.11113']\n",
      "35   ['0.11110', '0.11110', '0.11111', '0.11110', '0.11111', '0.11112', '0.11111', '0.11112', '0.11113']\n",
      "36   ['0.11110', '0.11111', '0.11111', '0.11111', '0.11111', '0.11112', '0.11111', '0.11112', '0.11112']\n",
      "37   ['0.11110', '0.11111', '0.11111', '0.11111', '0.11111', '0.11112', '0.11111', '0.11112', '0.11112']\n",
      "38   ['0.11111', '0.11111', '0.11111', '0.11111', '0.11111', '0.11111', '0.11111', '0.11111', '0.11112']\n",
      "39   ['0.11111', '0.11111', '0.11111', '0.11111', '0.11111', '0.11111', '0.11111', '0.11111', '0.11112']\n",
      "40   ['0.11111', '0.11111', '0.11111', '0.11111', '0.11111', '0.11111', '0.11111', '0.11111', '0.11111']\n",
      "41   ['0.11111', '0.11111', '0.11111', '0.11111', '0.11111', '0.11111', '0.11111', '0.11111', '0.11111']\n"
     ]
    }
   ],
   "source": [
    "# Construct transfer matrix\n",
    "transfer = np.zeros((9, 9))\n",
    "for k in range(9):\n",
    "    for neigh in range(4): transfer[neighbor[k][neigh], k] += 0.25\n",
    "\n",
    "def pebble_transfer():\n",
    "    # Initial position\n",
    "    position = np.zeros(9)\n",
    "    position[8] = 1.0\n",
    "    # Iterations\n",
    "    for t in range(42):\n",
    "        yield position\n",
    "        position = np.dot(transfer, position)\n",
    "\n",
    "for t, pos in enumerate(pebble_transfer()):\n",
    "    print(t, ' ',[\"%0.5f\" % i for i in pos])"
   ]
  },
  {
   "cell_type": "markdown",
   "metadata": {},
   "source": [
    "# Equilibrium and Decay\n",
    "- Equilibrium Probability Vector: $\\tilde{\\pi} = \\begin{pmatrix}1/9 \\\\ \\vdots \\\\ 1/9\\end{pmatrix}$\n",
    "- $\\mathbf{A} \\tilde{\\pi} = \\lambda_1 \\tilde{\\pi}$, when $\\lambda_1 = 1$\n",
    "- Second eigenvalue is slowest decay: $\\lambda_2 = 0.75$\n",
    "\n",
    "- Decay: $0.75^{-t} \\Rightarrow \\mathrm{e}^{-t/\\tau}$, where $\\tau \\approx 3.476$, $\\tau$ is the correlation time"
   ]
  },
  {
   "cell_type": "code",
   "execution_count": 9,
   "metadata": {
    "collapsed": false
   },
   "outputs": [
    {
     "name": "stdout",
     "output_type": "stream",
     "text": [
      "Eigenvalue:  -0.5\n",
      "Eigenvalue:  -1.17928095907e-17\n",
      "Eigenvalue:  1.0\n",
      "Equilibrium vector:\n",
      "-0.333333333333\n",
      "-0.333333333333\n",
      "-0.333333333333\n",
      "-0.333333333333\n",
      "-0.333333333333\n",
      "-0.333333333333\n",
      "-0.333333333333\n",
      "-0.333333333333\n",
      "-0.333333333333\n",
      "Eigenvalue:  0.75\n",
      "Eigenvalue:  0.5\n",
      "Eigenvalue:  0.25\n",
      "Eigenvalue:  2.52453377538e-18\n",
      "Eigenvalue:  0.25\n",
      "Eigenvalue:  0.75\n"
     ]
    }
   ],
   "source": [
    "eigenvalues, eigenvectors = np.linalg.eig(transfer)\n",
    "\n",
    "for iter in range(9):\n",
    "    print('Eigenvalue: ', eigenvalues[iter])\n",
    "    if(np.isclose(eigenvalues[iter], 1.0)):\n",
    "        print('Equilibrium vector:')\n",
    "        for i in range(9):\n",
    "           print(eigenvectors[i][iter])"
   ]
  },
  {
   "cell_type": "code",
   "execution_count": null,
   "metadata": {
    "collapsed": true
   },
   "outputs": [],
   "source": []
  }
 ],
 "metadata": {
  "kernelspec": {
   "display_name": "Python [conda root]",
   "language": "python",
   "name": "conda-root-py"
  },
  "language_info": {
   "codemirror_mode": {
    "name": "ipython",
    "version": 3
   },
   "file_extension": ".py",
   "mimetype": "text/x-python",
   "name": "python",
   "nbconvert_exporter": "python",
   "pygments_lexer": "ipython3",
   "version": "3.5.2"
  }
 },
 "nbformat": 4,
 "nbformat_minor": 2
}
