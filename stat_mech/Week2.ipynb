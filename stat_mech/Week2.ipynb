{
 "cells": [
  {
   "cell_type": "markdown",
   "metadata": {},
   "source": [
    "# Hard disks: From Classical to Statistical Mechanics\n",
    "\n",
    "- Hard disk: two-dimmensional hard spheres\n",
    "\n",
    "## Molecular Dynamics for Hard Disks\n",
    "![Hard disks](images/hard_disks_event.gif)\n",
    "\n",
    "- Event driven molecular dynamics algorithm (Alder and Wainwright, 1957)\n",
    "    - Wall Collision \n",
    "    - Pair Collision\n",
    "- Because of the negative curvature of the disks $\\Rightarrow$ Chaos (bad numerical stability)"
   ]
  },
  {
   "cell_type": "code",
   "execution_count": null,
   "metadata": {
    "collapsed": false
   },
   "outputs": [],
   "source": [
    "# Above simulation:\n",
    "\n",
    "import math\n",
    "\n",
    "def wall_time(pos_a, vel_a, sigma):\n",
    "    if vel_a > 0.0:\n",
    "        del_t = (1.0 - sigma - pos_a) / vel_a\n",
    "    elif vel_a < 0.0:\n",
    "        del_t = (pos_a - sigma) / abs(vel_a)\n",
    "    else:\n",
    "        del_t = float('inf')\n",
    "    return del_t\n",
    "\n",
    "def pair_time(pos_a, vel_a, pos_b, vel_b, sigma):\n",
    "    del_x = [pos_b[0] - pos_a[0], pos_b[1] - pos_a[1]]\n",
    "    del_x_sq = del_x[0] ** 2 + del_x[1] ** 2\n",
    "    del_v = [vel_b[0] - vel_a[0], vel_b[1] - vel_a[1]]\n",
    "    del_v_sq = del_v[0] ** 2 + del_v[1] ** 2\n",
    "    scal = del_v[0] * del_x[0] + del_v[1] * del_x[1]\n",
    "    Upsilon = scal ** 2 - del_v_sq * ( del_x_sq - 4.0 * sigma **2)\n",
    "    if Upsilon > 0.0 and scal < 0.0:\n",
    "        del_t = - (scal + math.sqrt(Upsilon)) / del_v_sq\n",
    "    else:\n",
    "        del_t = float('inf')\n",
    "    return del_t\n",
    "\n",
    "# Initial Positions, Velocities and Time\n",
    "pos = [[0.25, 0.25], [0.75, 0.25], [0.25, 0.75], [0.75, 0.75]]\n",
    "vel = [[0.21, 0.12], [0.71, 0.18], [-0.23, -0.79], [0.78, 0.1177]]\n",
    "t = 0.0\n",
    "# All indexes of pos, or vel\n",
    "singles = [(i,j) for i in range(4) for j in range(2)]\n",
    "# All disk combinations\n",
    "pairs = list(iter.combinations(range(4),2))\n",
    "\n",
    "# Sigma = radius\n",
    "sigma = 0.15\n",
    "n_events = 100\n",
    "for event in range(n_events):\n",
    "    wall_times = [wall_time(pos[k][l], vel[k][l], sigma) for k, l  in singles]\n",
    "    pair_times = [pair_time(pos[k], vel[k], pos[l], vel[l], sigma) for k, l in pairs]\n",
    "    next_event = min(wall_times + pair_times)\n",
    "    t += next_event\n",
    "    for k, l in singles: pos[k][l] += vel[k][l] * next_event \n",
    "    if min(wall_times) < min(pair_times):\n",
    "        collision_disk, direction = singles[wall_times.index(next_event)]\n",
    "        vel[collision_disk][direction] *= -1.0\n",
    "    else:\n",
    "        a, b = pairs[pair_times.index(next_event)]\n",
    "        del_x = [pos[b][0] - pos[a][0], pos[b][1] - pos[a][1]]\n",
    "        abs_x = math.sqrt(del_x[0] ** 2 + del_x[1] ** 2)\n",
    "        e_perp = [c / abs_x for c in del_x]\n",
    "        del_v = [vel[b][0] - vel[a][0], vel[b][1] - vel[a][1]]\n",
    "        scal = del_v[0] * e_perp[0] + del_v[1] * e_perp[1]\n",
    "        for k in range(2): \n",
    "            vel[a][k] += e_perp[k] * scal \n",
    "            vel[b][k] -= e_perp[k] * scal \n",
    "    print('event', event)\n",
    "    print('time', t)\n",
    "    print('pos', pos)\n",
    "    print('vel', vel)"
   ]
  },
  {
   "cell_type": "markdown",
   "metadata": {},
   "source": [
    "## Statistical mechanics\n",
    "- Ergodic Hypothesis: over long periods of time, the time spent by a system in some region of the phase space of microstates with the same energy is proportional to the volume of this region, i.e., that all accessible microstates are equiprobable over a long period of time.\n",
    "- All configurations of hard disks have the same probalibity $\\pi(a) = \\pi(b)$ (no velocity)\n",
    "- $\\rightarrow$ Direct sampling with Monte Carlo algorithm\n",
    "- Place disks one after another randomly\n",
    "- If a placement is illegal $\\rightarrow$ Tabula Rasa (start from beginning)\n"
   ]
  },
  {
   "cell_type": "code",
   "execution_count": null,
   "metadata": {
    "collapsed": false
   },
   "outputs": [],
   "source": [
    "import random, math, os, pylab\n",
    "\n",
    "def direct_disks_box(N, sigma):\n",
    "    condition = False\n",
    "    while condition == False:\n",
    "        L = [(random.uniform(sigma, 1.0 - sigma), random.uniform(sigma, 1.0 - sigma))]\n",
    "        for k in range(1, N):\n",
    "            a = (random.uniform(sigma, 1.0 - sigma), random.uniform(sigma, 1.0 - sigma))\n",
    "            min_dist = min(math.sqrt((a[0] - b[0]) ** 2 + (a[1] - b[1]) ** 2) for b in L) \n",
    "            if min_dist < 2.0 * sigma: \n",
    "                condition = False\n",
    "                break\n",
    "            else:\n",
    "                L.append(a)\n",
    "                condition = True\n",
    "    return L\n",
    "\n",
    "def snapshot(pos, colors):\n",
    "    pylab.subplots_adjust(left=0.10, right=0.90, top=0.90, bottom=0.10)\n",
    "    pylab.gcf().set_size_inches(6, 6)\n",
    "    pylab.axis([0, 1, 0, 1])\n",
    "    pylab.setp(pylab.gca(), xticks=[0, 1], yticks=[0, 1])\n",
    "    for (x, y), c in zip(pos, colors):\n",
    "        circle = pylab.Circle((x, y), radius=sigma, fc=c)\n",
    "        pylab.gca().add_patch(circle)\n",
    "    pylab.show()\n",
    "    pylab.close()\n",
    "\n",
    "N = 4\n",
    "colors = ['r', 'b', 'g', 'orange']\n",
    "sigma = 0.2\n",
    "n_runs = 8\n",
    "for run in range(n_runs):\n",
    "    pos = direct_disks_box(N, sigma)\n",
    "    snapshot(pos, colors)\n"
   ]
  },
  {
   "cell_type": "markdown",
   "metadata": {},
   "source": [
    "## Markov Disks\n",
    "- From a configuration $\\pi$ move one random disk\n",
    "- If possible $\\rightarrow$ new configuration\n",
    "- If rejected $\\rightarrow$ configuration does not change\n",
    "\n",
    "We must check irreducibility and aperiodicity\n",
    "- Aperiodicity trivial\n",
    "- irrducibility: disks have to be small enough to actually freely move around (for example the monte carlo above)"
   ]
  },
  {
   "cell_type": "code",
   "execution_count": null,
   "metadata": {
    "collapsed": false
   },
   "outputs": [],
   "source": [
    "import random, os, pylab\n",
    "\n",
    "def snapshot(pos, colors):\n",
    "    global img\n",
    "    pylab.subplots_adjust(left=0.10, right=0.90, top=0.90, bottom=0.10)\n",
    "    pylab.gcf().set_size_inches(6, 6)\n",
    "    pylab.axis([0, 1, 0, 1])\n",
    "    pylab.setp(pylab.gca(), xticks=[0, 1], yticks=[0, 1])\n",
    "    for (x, y), c in zip(pos, colors):\n",
    "        circle = pylab.Circle((x, y), radius=sigma, fc=c)\n",
    "        pylab.gca().add_patch(circle)\n",
    "    pylab.show()\n",
    "    pylab.close()\n",
    "\n",
    "L = [[0.25, 0.25], [0.75, 0.25], [0.25, 0.75], [0.75, 0.75]]\n",
    "sigma = 0.15\n",
    "sigma_sq = sigma ** 2\n",
    "delta = 0.1\n",
    "colors = ['r', 'b', 'g', 'orange']\n",
    "n_steps = 50\n",
    "for step in range(n_steps):\n",
    "    snapshot(L, colors)\n",
    "    a = random.choice(L)\n",
    "    b = [a[0] + random.uniform(-delta, delta), a[1] + random.uniform(-delta, delta)]\n",
    "    # Test for overlaps\n",
    "    min_dist = min((b[0] - c[0]) ** 2 + (b[1] - c[1]) ** 2 for c in L if c != a) \n",
    "    box_cond = min(b[0], b[1]) < sigma or max(b[0], b[1]) > 1.0 - sigma\n",
    "    if not (box_cond or min_dist < 4.0 * sigma ** 2):\n",
    "        a[:] = b"
   ]
  },
  {
   "cell_type": "code",
   "execution_count": null,
   "metadata": {
    "collapsed": true
   },
   "outputs": [],
   "source": []
  }
 ],
 "metadata": {
  "kernelspec": {
   "display_name": "Python [conda root]",
   "language": "python",
   "name": "conda-root-py"
  },
  "language_info": {
   "codemirror_mode": {
    "name": "ipython",
    "version": 3
   },
   "file_extension": ".py",
   "mimetype": "text/x-python",
   "name": "python",
   "nbconvert_exporter": "python",
   "pygments_lexer": "ipython3",
   "version": "3.5.2"
  }
 },
 "nbformat": 4,
 "nbformat_minor": 2
}
